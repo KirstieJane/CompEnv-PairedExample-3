{
 "cells": [
  {
   "cell_type": "code",
   "execution_count": null,
   "metadata": {},
   "outputs": [],
   "source": [
    "# Check versions\n",
    "import sys\n",
    "import numpy\n",
    "import matplotlib\n",
    "\n",
    "print \"Python is:\", sys.version\n",
    "print \"Numpy is:\", numpy.__version__\n",
    "print \"Matplotlib is:\", matplotlib.__version__"
   ]
  },
  {
   "cell_type": "code",
   "execution_count": null,
   "metadata": {},
   "outputs": [],
   "source": [
    "# Make some plots\n",
    "import numpy as np\n",
    "import matplotlib.pyplot as plt\n",
    "\n",
    "fig, (ax1, ax2) = plt.subplots(1, 2, figsize=(12, 5))\n",
    "\n",
    "x = np.arange(50.0)\n",
    "y = x ** 2.0\n",
    "\n",
    "ax1.plot(x, y, color=\"C0\", linestyle=\"-\")\n",
    "ax1.set_xlabel(\"x\", fontsize=18)\n",
    "ax1.set_ylabel(\"y\", fontsize=18)\n",
    "\n",
    "N = M = 200\n",
    "X, Y = np.ogrid[0:20:N*1j, 0:20:M*1j]\n",
    "data = np.sin(np.pi * X*2 / 20) * np.cos(np.pi * Y*2 / 20)\n",
    "\n",
    "im = ax2.imshow(data, extent=[0, 200, 0, 200])\n",
    "fig.colorbar(im, ax=ax2, shrink=0.8)\n",
    "\n",
    "ax2.set_xlabel(\"X\", fontsize=18)\n",
    "ax2.set_ylabel(\"Y\", fontsize=18)"
   ]
  },
  {
   "cell_type": "code",
   "execution_count": null,
   "metadata": {},
   "outputs": [],
   "source": []
  }
 ],
 "metadata": {
  "kernelspec": {
   "display_name": "Python 2",
   "language": "python",
   "name": "python2"
  },
  "language_info": {
   "codemirror_mode": {
    "name": "ipython",
    "version": 2
   },
   "file_extension": ".py",
   "mimetype": "text/x-python",
   "name": "python",
   "nbconvert_exporter": "python",
   "pygments_lexer": "ipython2",
   "version": "2.7.15"
  }
 },
 "nbformat": 4,
 "nbformat_minor": 2
}
